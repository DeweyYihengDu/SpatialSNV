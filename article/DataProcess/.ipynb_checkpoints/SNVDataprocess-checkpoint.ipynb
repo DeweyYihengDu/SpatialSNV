{
 "cells": [
  {
   "cell_type": "code",
   "execution_count": 1,
   "id": "f5cf6942-32e1-4f45-8ae9-28ae0adf4d70",
   "metadata": {},
   "outputs": [
    {
     "name": "stderr",
     "output_type": "stream",
     "text": [
      "/home/liuyi/miniconda3/envs/spatialsnv/lib/python3.10/site-packages/anndata/utils.py:429: FutureWarning: Importing read_csv from `anndata` is deprecated. Import anndata.io.read_csv instead.\n",
      "  warnings.warn(msg, FutureWarning)\n",
      "/home/liuyi/miniconda3/envs/spatialsnv/lib/python3.10/site-packages/anndata/utils.py:429: FutureWarning: Importing read_excel from `anndata` is deprecated. Import anndata.io.read_excel instead.\n",
      "  warnings.warn(msg, FutureWarning)\n",
      "/home/liuyi/miniconda3/envs/spatialsnv/lib/python3.10/site-packages/anndata/utils.py:429: FutureWarning: Importing read_hdf from `anndata` is deprecated. Import anndata.io.read_hdf instead.\n",
      "  warnings.warn(msg, FutureWarning)\n",
      "/home/liuyi/miniconda3/envs/spatialsnv/lib/python3.10/site-packages/anndata/utils.py:429: FutureWarning: Importing read_loom from `anndata` is deprecated. Import anndata.io.read_loom instead.\n",
      "  warnings.warn(msg, FutureWarning)\n",
      "/home/liuyi/miniconda3/envs/spatialsnv/lib/python3.10/site-packages/anndata/utils.py:429: FutureWarning: Importing read_mtx from `anndata` is deprecated. Import anndata.io.read_mtx instead.\n",
      "  warnings.warn(msg, FutureWarning)\n",
      "/home/liuyi/miniconda3/envs/spatialsnv/lib/python3.10/site-packages/anndata/utils.py:429: FutureWarning: Importing read_text from `anndata` is deprecated. Import anndata.io.read_text instead.\n",
      "  warnings.warn(msg, FutureWarning)\n",
      "/home/liuyi/miniconda3/envs/spatialsnv/lib/python3.10/site-packages/anndata/utils.py:429: FutureWarning: Importing read_umi_tools from `anndata` is deprecated. Import anndata.io.read_umi_tools instead.\n",
      "  warnings.warn(msg, FutureWarning)\n"
     ]
    }
   ],
   "source": [
    "import scanpy as sc\n",
    "import spatialSNV as ss"
   ]
  },
  {
   "cell_type": "code",
   "execution_count": 2,
   "id": "320f4f40-e04c-4ebe-90b2-f0125139be08",
   "metadata": {},
   "outputs": [],
   "source": [
    "root_path = '/storage/liuyi/00.SNP_project/code/gigascience_update/'"
   ]
  },
  {
   "cell_type": "code",
   "execution_count": 3,
   "id": "1ae723f5-b3d9-4a19-87b3-a90c68dc0de3",
   "metadata": {},
   "outputs": [],
   "source": [
    "stereo_sample_names = ['CRC-P19-T','CRC-P59-T_1','CRC-P59-T_2','CRC-P67-T','LC05-M_DU3','LC05-T_FD3']\n",
    "visium_sample_names = ['dcis1','dcis2']\n",
    "total_sample_names = visium_sample_names + stereo_sample_names"
   ]
  },
  {
   "cell_type": "code",
   "execution_count": 4,
   "id": "29d8598f-c7cc-4cfc-9f85-e7fd4ec2564f",
   "metadata": {},
   "outputs": [],
   "source": [
    "stereo_gtf = f\"{root_path}/reference_forhg38/gencode.v31.chr_patch_hapl_scaff.annotation.gtf.gz\"\n",
    "stereo_annovar_ref = f\"{root_path}/reference_forhg38/p12_ref\" # bulid by annovar\n",
    "visium_gtf = f\"{root_path}/reference_forhg38/genes.gtf.gz\"\n",
    "visium_annovar_ref = f\"{root_path}/reference_forhg38/10x_ref\" # bulid by annovar\n",
    "\n",
    "annovar_spe = \"homo\"\n",
    "annovar_ref_name = \"gencodev38\""
   ]
  },
  {
   "cell_type": "code",
   "execution_count": 5,
   "id": "d6b12bbf-4b6a-420a-bab6-5e0309c91379",
   "metadata": {},
   "outputs": [
    {
     "name": "stdout",
     "output_type": "stream",
     "text": [
      "--> This might be very slow. Consider passing `cache=True`, which enables much faster reading from a cache file.\n",
      "--> This might be very slow. Consider passing `cache=True`, which enables much faster reading from a cache file.\n",
      "filtered out 21325 genes that are detected in less than 1 cells\n",
      "filtered out 21325 genes that are detected in less than 1 cells\n"
     ]
    },
    {
     "name": "stderr",
     "output_type": "stream",
     "text": [
      "NOTICE: the --polish argument is set ON automatically (use --nopolish to change this behavior)\n",
      "-----------------------------------------------------------------\n",
      "NOTICE: Processing operation=g protocol=gencodev38\n",
      "\n",
      "NOTICE: Running with system command <annotate_variation.pl -geneanno -buildver homo -dbtype gencodev38 -outfile ./out//dcis1.gencodev38 -exonsort -nofirstcodondel ./out//dcis1.avinput /storage/liuyi/00.SNP_project/code/gigascience_update//reference_forhg38/10x_ref>\n",
      "NOTICE: Output files are written to ./out//dcis1.gencodev38.variant_function, ./out//dcis1.gencodev38.exonic_variant_function\n",
      "NOTICE: Reading gene annotation from /storage/liuyi/00.SNP_project/code/gigascience_update/reference_forhg38/10x_ref/homo_gencodev38.txt ... Done with 199138 transcripts (including 99933 without coding sequence annotation) for 36601 unique genes\n",
      "NOTICE: Processing next batch with 7215 unique variants in 7215 input lines\n",
      "NOTICE: Reading FASTA sequences from /storage/liuyi/00.SNP_project/code/gigascience_update/reference_forhg38/10x_ref/homo_gencodev38Mrna.fa ... Done with 627 sequences\n",
      "WARNING: A total of 7438 sequences will be ignored due to lack of correct ORF annotation\n",
      "\n",
      "NOTICE: Running with system command <coding_change.pl  ./out//dcis1.gencodev38.exonic_variant_function.orig /storage/liuyi/00.SNP_project/code/gigascience_update//reference_forhg38/10x_ref/homo_gencodev38.txt /storage/liuyi/00.SNP_project/code/gigascience_update//reference_forhg38/10x_ref/homo_gencodev38Mrna.fa -alltranscript -out ./out//dcis1.gencodev38.fa -newevf ./out//dcis1.gencodev38.exonic_variant_function>\n",
      "-----------------------------------------------------------------\n",
      "NOTICE: Multianno output file is written to ./out//dcis1.homo_multianno.txt\n"
     ]
    },
    {
     "name": "stdout",
     "output_type": "stream",
     "text": [
      "--> This might be very slow. Consider passing `cache=True`, which enables much faster reading from a cache file.\n",
      "--> This might be very slow. Consider passing `cache=True`, which enables much faster reading from a cache file.\n",
      "filtered out 33125 genes that are detected in less than 1 cells\n",
      "filtered out 33125 genes that are detected in less than 1 cells\n"
     ]
    },
    {
     "name": "stderr",
     "output_type": "stream",
     "text": [
      "NOTICE: the --polish argument is set ON automatically (use --nopolish to change this behavior)\n",
      "-----------------------------------------------------------------\n",
      "NOTICE: Processing operation=g protocol=gencodev38\n",
      "\n",
      "NOTICE: Running with system command <annotate_variation.pl -geneanno -buildver homo -dbtype gencodev38 -outfile ./out//dcis2.gencodev38 -exonsort -nofirstcodondel ./out//dcis2.avinput /storage/liuyi/00.SNP_project/code/gigascience_update//reference_forhg38/10x_ref>\n",
      "NOTICE: Output files are written to ./out//dcis2.gencodev38.variant_function, ./out//dcis2.gencodev38.exonic_variant_function\n",
      "NOTICE: Reading gene annotation from /storage/liuyi/00.SNP_project/code/gigascience_update/reference_forhg38/10x_ref/homo_gencodev38.txt ... Done with 199138 transcripts (including 99933 without coding sequence annotation) for 36601 unique genes\n",
      "NOTICE: Processing next batch with 6286 unique variants in 6286 input lines\n",
      "NOTICE: Reading FASTA sequences from /storage/liuyi/00.SNP_project/code/gigascience_update/reference_forhg38/10x_ref/homo_gencodev38Mrna.fa ... Done with 591 sequences\n",
      "WARNING: A total of 7438 sequences will be ignored due to lack of correct ORF annotation\n",
      "\n",
      "NOTICE: Running with system command <coding_change.pl  ./out//dcis2.gencodev38.exonic_variant_function.orig /storage/liuyi/00.SNP_project/code/gigascience_update//reference_forhg38/10x_ref/homo_gencodev38.txt /storage/liuyi/00.SNP_project/code/gigascience_update//reference_forhg38/10x_ref/homo_gencodev38Mrna.fa -alltranscript -out ./out//dcis2.gencodev38.fa -newevf ./out//dcis2.gencodev38.exonic_variant_function>\n",
      "-----------------------------------------------------------------\n",
      "NOTICE: Multianno output file is written to ./out//dcis2.homo_multianno.txt\n"
     ]
    },
    {
     "name": "stdout",
     "output_type": "stream",
     "text": [
      "--> This might be very slow. Consider passing `cache=True`, which enables much faster reading from a cache file.\n",
      "--> This might be very slow. Consider passing `cache=True`, which enables much faster reading from a cache file.\n",
      "filtered out 11997 genes that are detected in less than 1 cells\n",
      "filtered out 11997 genes that are detected in less than 1 cells\n",
      "filtered out 1 genes that are detected in less than 5 cells\n"
     ]
    },
    {
     "name": "stderr",
     "output_type": "stream",
     "text": [
      "NOTICE: the --polish argument is set ON automatically (use --nopolish to change this behavior)\n",
      "-----------------------------------------------------------------\n",
      "NOTICE: Processing operation=g protocol=gencodev38\n",
      "\n",
      "NOTICE: Running with system command <annotate_variation.pl -geneanno -buildver homo -dbtype gencodev38 -outfile ./out//CRC-P19-T.gencodev38 -exonsort -nofirstcodondel ./out//CRC-P19-T.avinput /storage/liuyi/00.SNP_project/code/gigascience_update//reference_forhg38/p12_ref>\n",
      "NOTICE: Output files are written to ./out//CRC-P19-T.gencodev38.variant_function, ./out//CRC-P19-T.gencodev38.exonic_variant_function\n",
      "NOTICE: Reading gene annotation from /storage/liuyi/00.SNP_project/code/gigascience_update/reference_forhg38/p12_ref/homo_gencodev38.txt ... Done with 247086 transcripts (including 137441 without coding sequence annotation) for 66738 unique genes\n",
      "NOTICE: Processing next batch with 42172 unique variants in 42172 input lines\n",
      "NOTICE: Reading FASTA sequences from /storage/liuyi/00.SNP_project/code/gigascience_update/reference_forhg38/p12_ref/homo_gencodev38Mrna.fa ... Done with 4246 sequences\n",
      "WARNING: A total of 8381 sequences will be ignored due to lack of correct ORF annotation\n",
      "\n",
      "NOTICE: Running with system command <coding_change.pl  ./out//CRC-P19-T.gencodev38.exonic_variant_function.orig /storage/liuyi/00.SNP_project/code/gigascience_update//reference_forhg38/p12_ref/homo_gencodev38.txt /storage/liuyi/00.SNP_project/code/gigascience_update//reference_forhg38/p12_ref/homo_gencodev38Mrna.fa -alltranscript -out ./out//CRC-P19-T.gencodev38.fa -newevf ./out//CRC-P19-T.gencodev38.exonic_variant_function>\n",
      "-----------------------------------------------------------------\n",
      "NOTICE: Multianno output file is written to ./out//CRC-P19-T.homo_multianno.txt\n"
     ]
    },
    {
     "name": "stdout",
     "output_type": "stream",
     "text": [
      "--> This might be very slow. Consider passing `cache=True`, which enables much faster reading from a cache file.\n",
      "--> This might be very slow. Consider passing `cache=True`, which enables much faster reading from a cache file.\n",
      "filtered out 57843 genes that are detected in less than 1 cells\n",
      "filtered out 57843 genes that are detected in less than 1 cells\n",
      "filtered out 201 genes that are detected in less than 5 cells\n"
     ]
    },
    {
     "name": "stderr",
     "output_type": "stream",
     "text": [
      "NOTICE: the --polish argument is set ON automatically (use --nopolish to change this behavior)\n",
      "-----------------------------------------------------------------\n",
      "NOTICE: Processing operation=g protocol=gencodev38\n",
      "\n",
      "NOTICE: Running with system command <annotate_variation.pl -geneanno -buildver homo -dbtype gencodev38 -outfile ./out//CRC-P59-T_1.gencodev38 -exonsort -nofirstcodondel ./out//CRC-P59-T_1.avinput /storage/liuyi/00.SNP_project/code/gigascience_update//reference_forhg38/p12_ref>\n",
      "NOTICE: Output files are written to ./out//CRC-P59-T_1.gencodev38.variant_function, ./out//CRC-P59-T_1.gencodev38.exonic_variant_function\n",
      "NOTICE: Reading gene annotation from /storage/liuyi/00.SNP_project/code/gigascience_update/reference_forhg38/p12_ref/homo_gencodev38.txt ... Done with 247086 transcripts (including 137441 without coding sequence annotation) for 66738 unique genes\n",
      "NOTICE: Processing next batch with 50714 unique variants in 50714 input lines\n",
      "NOTICE: Reading FASTA sequences from /storage/liuyi/00.SNP_project/code/gigascience_update/reference_forhg38/p12_ref/homo_gencodev38Mrna.fa ... Done with 7854 sequences\n",
      "WARNING: A total of 8381 sequences will be ignored due to lack of correct ORF annotation\n",
      "\n",
      "NOTICE: Running with system command <coding_change.pl  ./out//CRC-P59-T_1.gencodev38.exonic_variant_function.orig /storage/liuyi/00.SNP_project/code/gigascience_update//reference_forhg38/p12_ref/homo_gencodev38.txt /storage/liuyi/00.SNP_project/code/gigascience_update//reference_forhg38/p12_ref/homo_gencodev38Mrna.fa -alltranscript -out ./out//CRC-P59-T_1.gencodev38.fa -newevf ./out//CRC-P59-T_1.gencodev38.exonic_variant_function>\n",
      "-----------------------------------------------------------------\n",
      "NOTICE: Multianno output file is written to ./out//CRC-P59-T_1.homo_multianno.txt\n"
     ]
    },
    {
     "name": "stdout",
     "output_type": "stream",
     "text": [
      "--> This might be very slow. Consider passing `cache=True`, which enables much faster reading from a cache file.\n",
      "--> This might be very slow. Consider passing `cache=True`, which enables much faster reading from a cache file.\n",
      "filtered out 6237 genes that are detected in less than 1 cells\n",
      "filtered out 6237 genes that are detected in less than 1 cells\n",
      "filtered out 4 genes that are detected in less than 5 cells\n"
     ]
    },
    {
     "name": "stderr",
     "output_type": "stream",
     "text": [
      "NOTICE: the --polish argument is set ON automatically (use --nopolish to change this behavior)\n",
      "-----------------------------------------------------------------\n",
      "NOTICE: Processing operation=g protocol=gencodev38\n",
      "\n",
      "NOTICE: Running with system command <annotate_variation.pl -geneanno -buildver homo -dbtype gencodev38 -outfile ./out//CRC-P59-T_2.gencodev38 -exonsort -nofirstcodondel ./out//CRC-P59-T_2.avinput /storage/liuyi/00.SNP_project/code/gigascience_update//reference_forhg38/p12_ref>\n",
      "NOTICE: Output files are written to ./out//CRC-P59-T_2.gencodev38.variant_function, ./out//CRC-P59-T_2.gencodev38.exonic_variant_function\n",
      "NOTICE: Reading gene annotation from /storage/liuyi/00.SNP_project/code/gigascience_update/reference_forhg38/p12_ref/homo_gencodev38.txt ... Done with 247086 transcripts (including 137441 without coding sequence annotation) for 66738 unique genes\n",
      "NOTICE: Processing next batch with 81632 unique variants in 81632 input lines\n",
      "NOTICE: Reading FASTA sequences from /storage/liuyi/00.SNP_project/code/gigascience_update/reference_forhg38/p12_ref/homo_gencodev38Mrna.fa ... Done with 14683 sequences\n",
      "WARNING: A total of 8381 sequences will be ignored due to lack of correct ORF annotation\n",
      "\n",
      "NOTICE: Running with system command <coding_change.pl  ./out//CRC-P59-T_2.gencodev38.exonic_variant_function.orig /storage/liuyi/00.SNP_project/code/gigascience_update//reference_forhg38/p12_ref/homo_gencodev38.txt /storage/liuyi/00.SNP_project/code/gigascience_update//reference_forhg38/p12_ref/homo_gencodev38Mrna.fa -alltranscript -out ./out//CRC-P59-T_2.gencodev38.fa -newevf ./out//CRC-P59-T_2.gencodev38.exonic_variant_function>\n",
      "-----------------------------------------------------------------\n",
      "NOTICE: Multianno output file is written to ./out//CRC-P59-T_2.homo_multianno.txt\n"
     ]
    },
    {
     "name": "stdout",
     "output_type": "stream",
     "text": [
      "--> This might be very slow. Consider passing `cache=True`, which enables much faster reading from a cache file.\n",
      "--> This might be very slow. Consider passing `cache=True`, which enables much faster reading from a cache file.\n",
      "filtered out 39964 genes that are detected in less than 1 cells\n",
      "filtered out 39964 genes that are detected in less than 1 cells\n",
      "filtered out 31 genes that are detected in less than 5 cells\n"
     ]
    },
    {
     "name": "stderr",
     "output_type": "stream",
     "text": [
      "NOTICE: the --polish argument is set ON automatically (use --nopolish to change this behavior)\n",
      "-----------------------------------------------------------------\n",
      "NOTICE: Processing operation=g protocol=gencodev38\n",
      "\n",
      "NOTICE: Running with system command <annotate_variation.pl -geneanno -buildver homo -dbtype gencodev38 -outfile ./out//CRC-P67-T.gencodev38 -exonsort -nofirstcodondel ./out//CRC-P67-T.avinput /storage/liuyi/00.SNP_project/code/gigascience_update//reference_forhg38/p12_ref>\n",
      "NOTICE: Output files are written to ./out//CRC-P67-T.gencodev38.variant_function, ./out//CRC-P67-T.gencodev38.exonic_variant_function\n",
      "NOTICE: Reading gene annotation from /storage/liuyi/00.SNP_project/code/gigascience_update/reference_forhg38/p12_ref/homo_gencodev38.txt ... Done with 247086 transcripts (including 137441 without coding sequence annotation) for 66738 unique genes\n",
      "NOTICE: Processing next batch with 44912 unique variants in 44912 input lines\n",
      "NOTICE: Reading FASTA sequences from /storage/liuyi/00.SNP_project/code/gigascience_update/reference_forhg38/p12_ref/homo_gencodev38Mrna.fa ... Done with 6061 sequences\n",
      "WARNING: A total of 8381 sequences will be ignored due to lack of correct ORF annotation\n",
      "\n",
      "NOTICE: Running with system command <coding_change.pl  ./out//CRC-P67-T.gencodev38.exonic_variant_function.orig /storage/liuyi/00.SNP_project/code/gigascience_update//reference_forhg38/p12_ref/homo_gencodev38.txt /storage/liuyi/00.SNP_project/code/gigascience_update//reference_forhg38/p12_ref/homo_gencodev38Mrna.fa -alltranscript -out ./out//CRC-P67-T.gencodev38.fa -newevf ./out//CRC-P67-T.gencodev38.exonic_variant_function>\n",
      "-----------------------------------------------------------------\n",
      "NOTICE: Multianno output file is written to ./out//CRC-P67-T.homo_multianno.txt\n"
     ]
    },
    {
     "name": "stdout",
     "output_type": "stream",
     "text": [
      "--> This might be very slow. Consider passing `cache=True`, which enables much faster reading from a cache file.\n",
      "--> This might be very slow. Consider passing `cache=True`, which enables much faster reading from a cache file.\n",
      "filtered out 5171 genes that are detected in less than 1 cells\n",
      "filtered out 5171 genes that are detected in less than 1 cells\n"
     ]
    },
    {
     "name": "stderr",
     "output_type": "stream",
     "text": [
      "NOTICE: the --polish argument is set ON automatically (use --nopolish to change this behavior)\n",
      "-----------------------------------------------------------------\n",
      "NOTICE: Processing operation=g protocol=gencodev38\n",
      "\n",
      "NOTICE: Running with system command <annotate_variation.pl -geneanno -buildver homo -dbtype gencodev38 -outfile ./out//LC05-M_DU3.gencodev38 -exonsort -nofirstcodondel ./out//LC05-M_DU3.avinput /storage/liuyi/00.SNP_project/code/gigascience_update//reference_forhg38/p12_ref>\n",
      "NOTICE: Output files are written to ./out//LC05-M_DU3.gencodev38.variant_function, ./out//LC05-M_DU3.gencodev38.exonic_variant_function\n",
      "NOTICE: Reading gene annotation from /storage/liuyi/00.SNP_project/code/gigascience_update/reference_forhg38/p12_ref/homo_gencodev38.txt ... Done with 247086 transcripts (including 137441 without coding sequence annotation) for 66738 unique genes\n",
      "NOTICE: Processing next batch with 23435 unique variants in 23435 input lines\n",
      "NOTICE: Reading FASTA sequences from /storage/liuyi/00.SNP_project/code/gigascience_update/reference_forhg38/p12_ref/homo_gencodev38Mrna.fa ... Done with 1326 sequences\n",
      "WARNING: A total of 8381 sequences will be ignored due to lack of correct ORF annotation\n",
      "\n",
      "NOTICE: Running with system command <coding_change.pl  ./out//LC05-M_DU3.gencodev38.exonic_variant_function.orig /storage/liuyi/00.SNP_project/code/gigascience_update//reference_forhg38/p12_ref/homo_gencodev38.txt /storage/liuyi/00.SNP_project/code/gigascience_update//reference_forhg38/p12_ref/homo_gencodev38Mrna.fa -alltranscript -out ./out//LC05-M_DU3.gencodev38.fa -newevf ./out//LC05-M_DU3.gencodev38.exonic_variant_function>\n",
      "-----------------------------------------------------------------\n",
      "NOTICE: Multianno output file is written to ./out//LC05-M_DU3.homo_multianno.txt\n"
     ]
    },
    {
     "name": "stdout",
     "output_type": "stream",
     "text": [
      "--> This might be very slow. Consider passing `cache=True`, which enables much faster reading from a cache file.\n",
      "--> This might be very slow. Consider passing `cache=True`, which enables much faster reading from a cache file.\n",
      "filtered out 8408 genes that are detected in less than 1 cells\n",
      "filtered out 8408 genes that are detected in less than 1 cells\n",
      "filtered out 6 genes that are detected in less than 5 cells\n"
     ]
    },
    {
     "name": "stderr",
     "output_type": "stream",
     "text": [
      "NOTICE: the --polish argument is set ON automatically (use --nopolish to change this behavior)\n",
      "-----------------------------------------------------------------\n",
      "NOTICE: Processing operation=g protocol=gencodev38\n",
      "\n",
      "NOTICE: Running with system command <annotate_variation.pl -geneanno -buildver homo -dbtype gencodev38 -outfile ./out//LC05-T_FD3.gencodev38 -exonsort -nofirstcodondel ./out//LC05-T_FD3.avinput /storage/liuyi/00.SNP_project/code/gigascience_update//reference_forhg38/p12_ref>\n",
      "NOTICE: Output files are written to ./out//LC05-T_FD3.gencodev38.variant_function, ./out//LC05-T_FD3.gencodev38.exonic_variant_function\n",
      "NOTICE: Reading gene annotation from /storage/liuyi/00.SNP_project/code/gigascience_update/reference_forhg38/p12_ref/homo_gencodev38.txt ... Done with 247086 transcripts (including 137441 without coding sequence annotation) for 66738 unique genes\n",
      "NOTICE: Processing next batch with 57137 unique variants in 57137 input lines\n",
      "NOTICE: Reading FASTA sequences from /storage/liuyi/00.SNP_project/code/gigascience_update/reference_forhg38/p12_ref/homo_gencodev38Mrna.fa ... Done with 3743 sequences\n",
      "WARNING: A total of 8381 sequences will be ignored due to lack of correct ORF annotation\n",
      "\n",
      "NOTICE: Running with system command <coding_change.pl  ./out//LC05-T_FD3.gencodev38.exonic_variant_function.orig /storage/liuyi/00.SNP_project/code/gigascience_update//reference_forhg38/p12_ref/homo_gencodev38.txt /storage/liuyi/00.SNP_project/code/gigascience_update//reference_forhg38/p12_ref/homo_gencodev38Mrna.fa -alltranscript -out ./out//LC05-T_FD3.gencodev38.fa -newevf ./out//LC05-T_FD3.gencodev38.exonic_variant_function>\n",
      "-----------------------------------------------------------------\n",
      "NOTICE: Multianno output file is written to ./out//LC05-T_FD3.homo_multianno.txt\n"
     ]
    }
   ],
   "source": [
    "for sample in total_sample_names:\n",
    "    rna = sc.read_h5ad(f'{root_path}/rna_adata/{sample}.rna.h5ad')\n",
    "    if sample in stereo_sample_names:\n",
    "        snv_path = f\"{root_path}/input_matrix/{sample}/{sample}_snp100_matrix\"\n",
    "        snv_depth_path = f\"{root_path}/input_matrix/{sample}/{sample}_snp100_matrix_depth\"\n",
    "        gtf = stereo_gtf\n",
    "        annovar_ref = stereo_annovar_ref\n",
    "    else:\n",
    "        snv_path = f\"{root_path}/input_matrix/{sample}/{sample}_snp_matrix\"\n",
    "        snv_depth_path = f\"{root_path}/input_matrix/{sample}/{sample}_snp_matrix_depth\"\n",
    "        gtf = visium_gtf\n",
    "        annovar_ref = visium_annovar_ref\n",
    "        \n",
    "    snv = sc.read_10x_mtx(snv_path,cache = False)\n",
    "    snv_depth = sc.read_10x_mtx(snv_depth_path,cache = False)\n",
    "    if sample in stereo_sample_names:\n",
    "        snv.obs_names = 'DNB_'+ snv.obs_names\n",
    "        snv_depth.obs_names = 'DNB_'+ snv_depth.obs_names\n",
    "    \n",
    "    common = list(set(rna.obs_names).intersection(set(snv_depth.obs_names)))\n",
    "    rna = rna[common, :].copy()\n",
    "    snv_depth = snv_depth[common,:].copy()\n",
    "    snv = snv[common,snv_depth.var_names].copy()\n",
    "    snv.obsm['spatial'] = rna.obsm['spatial']\n",
    "    sc.pp.filter_genes(snv,min_cells = 1)\n",
    "    sc.pp.filter_genes(snv_depth,min_cells = 1)\n",
    "    df_n_cells = snv.var['n_cells']\n",
    "    df_n_cells.to_csv(f'{root_path}/otherdata_for_figure/Figure1/snv_cells/{sample}.cells.csv',index=None)\n",
    "\n",
    "    \n",
    "    snv = ss.processsnv(\n",
    "        sample,\n",
    "        snv,\n",
    "        snv_depth,\n",
    "        gtf = gtf,\n",
    "        annovar_ref = annovar_ref,\n",
    "        annovar_spe = annovar_spe,\n",
    "        annovar_ref_name = annovar_ref_name,\n",
    "        thrshold = 20,   # Filter SNV by coverage\n",
    "        min_cells = 5,   # Filter SNV by spot\n",
    "        outdir = f\"./out/\",\n",
    "        annovar = \"/home/liuyi/02.software/annovar/annovar/table_annovar.pl\", # path to annovar\n",
    "    )\n",
    "    ss.normalize_with_rna(snv,rna)\n",
    "    snv.write(f'{root_path}/snv_adata/{sample}.snv.h5ad')"
   ]
  },
  {
   "cell_type": "markdown",
   "id": "00f81c95-7cb1-441c-83d6-7d086f76eb0b",
   "metadata": {},
   "source": [
    "# slide_RNA"
   ]
  },
  {
   "cell_type": "code",
   "execution_count": 6,
   "id": "e27211c0-f46c-42e9-95c4-97a2b40b7553",
   "metadata": {},
   "outputs": [],
   "source": [
    "sample = 'slide_RNA'\n",
    "rna = sc.read_h5ad(f'{root_path}/rna_adata/{sample}.rna.h5ad')\n",
    "snv_path = f\"{root_path}/input_matrix/{sample}/{sample}_snp_matrix\"\n",
    "snv_depth_path = f\"{root_path}/input_matrix/{sample}/{sample}_snp_matrix_depth\""
   ]
  },
  {
   "cell_type": "code",
   "execution_count": 7,
   "id": "e6e6dea1-92f3-462d-861f-00e65ef1c880",
   "metadata": {},
   "outputs": [],
   "source": [
    "import pandas as pd\n",
    "import anndata as ad\n",
    "import numpy as np\n",
    "from scipy.sparse import csr_matrix"
   ]
  },
  {
   "cell_type": "code",
   "execution_count": 10,
   "id": "f584f1ed-61c8-443b-b943-aa329963b5ca",
   "metadata": {},
   "outputs": [
    {
     "name": "stdout",
     "output_type": "stream",
     "text": [
      "--> This might be very slow. Consider passing `cache=True`, which enables much faster reading from a cache file.\n",
      "--> This might be very slow. Consider passing `cache=True`, which enables much faster reading from a cache file.\n",
      "filtered out 221759 genes that are detected in less than 1 cells\n",
      "filtered out 221759 genes that are detected in less than 1 cells\n"
     ]
    },
    {
     "name": "stderr",
     "output_type": "stream",
     "text": [
      "NOTICE: the --polish argument is set ON automatically (use --nopolish to change this behavior)\n",
      "-----------------------------------------------------------------\n",
      "NOTICE: Processing operation=g protocol=gencodev38\n",
      "\n",
      "NOTICE: Running with system command <annotate_variation.pl -geneanno -buildver homo -dbtype gencodev38 -outfile ./out//slide_RNA.gencodev38 -exonsort -nofirstcodondel ./out//slide_RNA.avinput /storage/liuyi/00.SNP_project/code/gigascience_update//reference_forhg38/p12_ref>\n",
      "NOTICE: Output files are written to ./out//slide_RNA.gencodev38.variant_function, ./out//slide_RNA.gencodev38.exonic_variant_function\n",
      "NOTICE: Reading gene annotation from /storage/liuyi/00.SNP_project/code/gigascience_update/reference_forhg38/p12_ref/homo_gencodev38.txt ... Done with 247086 transcripts (including 137441 without coding sequence annotation) for 66738 unique genes\n",
      "NOTICE: Processing next batch with 1245 unique variants in 1245 input lines\n",
      "NOTICE: Reading FASTA sequences from /storage/liuyi/00.SNP_project/code/gigascience_update/reference_forhg38/p12_ref/homo_gencodev38Mrna.fa ... Done with 1238 sequences\n",
      "WARNING: A total of 8381 sequences will be ignored due to lack of correct ORF annotation\n",
      "\n",
      "NOTICE: Running with system command <coding_change.pl  ./out//slide_RNA.gencodev38.exonic_variant_function.orig /storage/liuyi/00.SNP_project/code/gigascience_update//reference_forhg38/p12_ref/homo_gencodev38.txt /storage/liuyi/00.SNP_project/code/gigascience_update//reference_forhg38/p12_ref/homo_gencodev38Mrna.fa -alltranscript -out ./out//slide_RNA.gencodev38.fa -newevf ./out//slide_RNA.gencodev38.exonic_variant_function>\n",
      "-----------------------------------------------------------------\n",
      "NOTICE: Multianno output file is written to ./out//slide_RNA.homo_multianno.txt\n"
     ]
    }
   ],
   "source": [
    "snv_depth = sc.read_10x_mtx(snv_depth_path,cache=False)\n",
    "snv = sc.read_10x_mtx(snv_path,cache=False)\n",
    "second_column=pd.read_csv(f'{root_path}/input_matrix/{sample}/human_colon_cancer_4_rna_200102_06.bead_locations.csv')\n",
    "location = second_column.set_index('barcode')\n",
    "snv.obs['x'] = location['xcoord']\n",
    "snv.obs['y'] = location['ycoord']\n",
    "snv = snv[snv.obs_names.isin(snv.obs.dropna().index)]\n",
    "snv_depth.obs['x'] = location['xcoord']\n",
    "snv_depth.obs['y'] = location['ycoord']\n",
    "snv_depth = snv_depth[snv_depth.obs_names.isin(snv_depth.obs.dropna().index)]\n",
    "\n",
    "df = snv.to_df()\n",
    "\n",
    "## bin50\n",
    "df[['x', 'y']] = snv.obs[['x', 'y']].applymap(lambda x: int(x/50)*50)\n",
    "df['id'] = df['x'].apply(str) + '_' + df['y'].apply(str)\n",
    "matrix = df.groupby(by='id').sum()\n",
    "del matrix['x']\n",
    "del matrix['y']\n",
    "snv = ad.AnnData(matrix)\n",
    "snv.obs['x']=snv.obs.index.map(lambda x : int(x.split('_')[0]))\n",
    "snv.obs['y']=snv.obs.index.map(lambda x : int(x.split('_')[1]))\n",
    "snv.obsm['spatial']=np.array([snv.obs['x'],snv.obs['y']]).T\n",
    "depdf = snv_depth.to_df()\n",
    "depdf[['x', 'y']] = snv_depth.obs[['x', 'y']].applymap(lambda x: int(x/50)*50)\n",
    "depdf['id'] = depdf['x'].apply(str) + '_' + depdf['y'].apply(str)\n",
    "depmatrix = depdf.groupby(by='id').sum()\n",
    "del depmatrix['x']\n",
    "del depmatrix['y']\n",
    "snv_depth = ad.AnnData(depmatrix)\n",
    "snv_depth.obs['x']=snv_depth.obs.index.map(lambda x : int(x.split('_')[0]))\n",
    "snv_depth.obs['y']=snv_depth.obs.index.map(lambda x : int(x.split('_')[1]))\n",
    "snv_depth.obsm['spatial']=np.array([snv_depth.obs['x'],snv_depth.obs['y']]).T\n",
    "\n",
    "snv.X = csr_matrix(snv.X)\n",
    "snv_depth.X = csr_matrix(snv_depth.X)\n",
    "common = list(set(rna.obs_names).intersection(set(snv_depth.obs_names)))\n",
    "rna = rna[common, :].copy()\n",
    "snv_depth = snv_depth[common,:].copy()\n",
    "snv = snv[common,snv_depth.var_names].copy()\n",
    "snv.obsm = rna.obsm\n",
    "sc.pp.filter_genes(snv,min_cells = 1)\n",
    "sc.pp.filter_genes(snv_depth,min_cells = 1)\n",
    "df_n_cells = snv.var['n_cells']\n",
    "df_n_cells.to_csv(f'{root_path}/otherdata_for_figure/Figure1/snv_cells/{sample}.cells.csv',index=None)\n",
    "snv = ss.processsnv(\n",
    "        sample,\n",
    "        snv,\n",
    "        snv_depth,\n",
    "        gtf = gtf,\n",
    "        annovar_ref = annovar_ref,\n",
    "        annovar_spe = annovar_spe,\n",
    "        annovar_ref_name = annovar_ref_name,\n",
    "        thrshold = 20,   # Filter SNV by coverage\n",
    "        min_cells = 5,   # Filter SNV by spot\n",
    "        outdir = f\"./out/\",\n",
    "        annovar = \"/home/liuyi/02.software/annovar/annovar/table_annovar.pl\", # path to annovar\n",
    "    )\n",
    "ss.normalize_with_rna(snv,rna)\n",
    "snv.write(f'{root_path}/snv_adata/{sample}.snv.h5ad')"
   ]
  },
  {
   "cell_type": "markdown",
   "id": "3afde20f-5369-41a9-be39-fc06d89b9605",
   "metadata": {},
   "source": [
    "# slide DNA"
   ]
  },
  {
   "cell_type": "code",
   "execution_count": 11,
   "id": "52416689-13cb-4230-b202-59e2d330a13f",
   "metadata": {},
   "outputs": [],
   "source": [
    "sample_name = 'slide_DNA'\n",
    "snv_depth_path = f\"{root_path}/input_matrix/{sample_name}/snv_matrix_depth\"\n",
    "beads = pd.read_csv(f\"{root_path}/input_matrix/{sample_name}/human_colon_cancer_3_dna_191204_19.bead_locations.csv\")"
   ]
  },
  {
   "cell_type": "code",
   "execution_count": 12,
   "id": "152a5b89-24c4-46f7-ace6-8bcc4ceabc0e",
   "metadata": {},
   "outputs": [],
   "source": [
    "rev_compl_l = [chr(i) for i in range(128)]\n",
    "rev_compl_l[ord('A')] = 'T'\n",
    "rev_compl_l[ord('C')] = 'G'\n",
    "rev_compl_l[ord('G')] = 'C'\n",
    "rev_compl_l[ord('T')] = 'A'\n",
    "\n",
    "def rev_compl(s):\n",
    "    return ''.join(rev_compl_l[ord(c)] for c in reversed(s))"
   ]
  },
  {
   "cell_type": "code",
   "execution_count": 13,
   "id": "fd71e294-ed07-4772-9827-da52751a71fc",
   "metadata": {},
   "outputs": [
    {
     "name": "stdout",
     "output_type": "stream",
     "text": [
      "... writing an h5ad cache file to speedup reading next time\n"
     ]
    },
    {
     "name": "stderr",
     "output_type": "stream",
     "text": [
      "/tmp/ipykernel_192401/1746673476.py:3: ImplicitModificationWarning: Trying to modify attribute `.var` of view, initializing view as actual.\n",
      "  snv_depth.var['SNVDepth'] = np.sum(snv_depth.X,axis = 0).reshape(-1,1)\n"
     ]
    }
   ],
   "source": [
    "snv_depth = sc.read_10x_mtx(snv_depth_path,cache=True)\n",
    "snv_depth = snv_depth[snv_depth.obs_names.isin(beads['barcodes'].map(rev_compl))]\n",
    "snv_depth.var['SNVDepth'] = np.sum(snv_depth.X,axis = 0).reshape(-1,1)\n",
    "snv_depth.obs['TotalDepth'] = np.sum(snv_depth.X,axis = 1)"
   ]
  },
  {
   "cell_type": "code",
   "execution_count": 14,
   "id": "40e99932-4308-4e3f-9974-9a9613a72f7a",
   "metadata": {},
   "outputs": [
    {
     "name": "stdout",
     "output_type": "stream",
     "text": [
      "filtered out 46994 genes that are detected in less than 1 cells\n",
      "filtered out 4 genes that are detected in less than 3 cells\n"
     ]
    }
   ],
   "source": [
    "sc.pp.filter_genes(snv_depth,min_cells = 1)\n",
    "df_n_cells = snv_depth.var['n_cells']\n",
    "df_n_cells.to_csv(f'{root_path}/otherdata_for_figure/Figure1/snv_cells/{sample_name}.cells.csv',index=None)\n",
    "thrshold = 20\n",
    "sub_snv = snv_depth[:,snv_depth.var['SNVDepth'] >= thrshold].copy()\n",
    "sc.pp.filter_genes(sub_snv,min_cells = 3)"
   ]
  },
  {
   "cell_type": "code",
   "execution_count": 15,
   "id": "6e432429-19e8-41ca-8975-7d18756b122c",
   "metadata": {},
   "outputs": [],
   "source": [
    "sub_snv.write(f'{root_path}/snv_adata/slide_DNA.snv.h5ad')"
   ]
  }
 ],
 "metadata": {
  "kernelspec": {
   "display_name": "spatialsnv",
   "language": "python",
   "name": "spatialsnv"
  },
  "language_info": {
   "codemirror_mode": {
    "name": "ipython",
    "version": 3
   },
   "file_extension": ".py",
   "mimetype": "text/x-python",
   "name": "python",
   "nbconvert_exporter": "python",
   "pygments_lexer": "ipython3",
   "version": "3.10.14"
  }
 },
 "nbformat": 4,
 "nbformat_minor": 5
}
