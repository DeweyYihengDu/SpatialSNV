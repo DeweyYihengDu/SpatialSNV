{
 "cells": [
  {
   "cell_type": "code",
   "execution_count": 8,
   "id": "2ede23aa-9408-4178-8b0c-da9d11780727",
   "metadata": {
    "tags": []
   },
   "outputs": [],
   "source": [
    "library(ggplot2)\n",
    "library(stringr)\n",
    "library(enrichplot)\n",
    "library(org.Hs.eg.db)\n",
    "library(clusterProfiler)\n",
    "library(dplyr)"
   ]
  },
  {
   "cell_type": "code",
   "execution_count": 9,
   "id": "1d447513-1d1f-4e90-8cce-92d3dac694d7",
   "metadata": {},
   "outputs": [],
   "source": [
    "gene_list <- read.table('comsnv.gene.txt', head=F)"
   ]
  },
  {
   "cell_type": "code",
   "execution_count": 10,
   "id": "0eeabb55-5dc4-4e12-a428-2efb5cd2413f",
   "metadata": {},
   "outputs": [
    {
     "name": "stderr",
     "output_type": "stream",
     "text": [
      "'select()' returned 1:1 mapping between keys and columns\n",
      "\n",
      "Warning message in bitr(gene_list$V1, fromType = \"SYMBOL\", toType = \"ENTREZID\", :\n",
      "“16.89% of input gene IDs are fail to map...”\n"
     ]
    }
   ],
   "source": [
    "gene_entrez <- bitr(gene_list$V1, fromType = \"SYMBOL\", toType = \"ENTREZID\", OrgDb = org.Hs.eg.db)"
   ]
  },
  {
   "cell_type": "code",
   "execution_count": 11,
   "id": "d11685e6-bc88-4b65-848e-a30797852529",
   "metadata": {},
   "outputs": [],
   "source": [
    "merged_list <- merge(gene_list, gene_entrez, by.x = \"V1\", by.y = \"SYMBOL\", all.x = TRUE)"
   ]
  },
  {
   "cell_type": "code",
   "execution_count": 12,
   "id": "dbbeb20e-19c9-4b61-92bc-2cb1981d4e4d",
   "metadata": {},
   "outputs": [],
   "source": [
    "merged_list <- merged_list[!is.na(merged_list$ENTREZID), ]"
   ]
  },
  {
   "cell_type": "code",
   "execution_count": 13,
   "id": "0b3c0ff2-26e7-413b-b8bb-8f77391ddbf7",
   "metadata": {},
   "outputs": [],
   "source": [
    "dict <- setNames(merged_list$V1, merged_list$ENTREZID)"
   ]
  },
  {
   "cell_type": "code",
   "execution_count": 14,
   "id": "27be920b-0ee3-408b-98df-66ec6acbc2a0",
   "metadata": {},
   "outputs": [],
   "source": [
    "ego <- enrichGO(gene          = merged_list$ENTREZID,\n",
    "                OrgDb         = org.Hs.eg.db,\n",
    "                keyType       = \"ENTREZID\",\n",
    "                ont           = \"MF\",\n",
    "                pAdjustMethod = \"BH\",\n",
    "                qvalueCutoff  = 0.01)"
   ]
  },
  {
   "cell_type": "code",
   "execution_count": 16,
   "id": "f63c30e2-99e4-4717-aaa6-594c72e46dd7",
   "metadata": {},
   "outputs": [
    {
     "data": {
      "text/html": [
       "<style>\n",
       ".list-inline {list-style: none; margin:0; padding: 0}\n",
       ".list-inline>li {display: inline-block}\n",
       ".list-inline>li:not(:last-child)::after {content: \"\\00b7\"; padding: 0 .5ex}\n",
       "</style>\n",
       "<ol class=list-inline><li>'transcription coregulator activity'</li><li>'cadherin binding'</li><li>'transcription corepressor activity'</li><li>'phosphatase binding'</li><li>'single-stranded DNA binding'</li><li>'RNA polymerase II-specific DNA-binding transcription factor binding'</li><li>'chloride channel inhibitor activity'</li><li>'molecular function inhibitor activity'</li><li>'ubiquitin-like protein ligase binding'</li><li>'DNA-binding transcription factor binding'</li><li>'protein serine/threonine kinase activity'</li><li>'translation initiation factor binding'</li><li>'transcription coactivator activity'</li><li>'enzyme inhibitor activity'</li><li>'transcription coregulator binding'</li><li>'protein phosphatase binding'</li><li>'histone binding'</li></ol>\n"
      ],
      "text/latex": [
       "\\begin{enumerate*}\n",
       "\\item 'transcription coregulator activity'\n",
       "\\item 'cadherin binding'\n",
       "\\item 'transcription corepressor activity'\n",
       "\\item 'phosphatase binding'\n",
       "\\item 'single-stranded DNA binding'\n",
       "\\item 'RNA polymerase II-specific DNA-binding transcription factor binding'\n",
       "\\item 'chloride channel inhibitor activity'\n",
       "\\item 'molecular function inhibitor activity'\n",
       "\\item 'ubiquitin-like protein ligase binding'\n",
       "\\item 'DNA-binding transcription factor binding'\n",
       "\\item 'protein serine/threonine kinase activity'\n",
       "\\item 'translation initiation factor binding'\n",
       "\\item 'transcription coactivator activity'\n",
       "\\item 'enzyme inhibitor activity'\n",
       "\\item 'transcription coregulator binding'\n",
       "\\item 'protein phosphatase binding'\n",
       "\\item 'histone binding'\n",
       "\\end{enumerate*}\n"
      ],
      "text/markdown": [
       "1. 'transcription coregulator activity'\n",
       "2. 'cadherin binding'\n",
       "3. 'transcription corepressor activity'\n",
       "4. 'phosphatase binding'\n",
       "5. 'single-stranded DNA binding'\n",
       "6. 'RNA polymerase II-specific DNA-binding transcription factor binding'\n",
       "7. 'chloride channel inhibitor activity'\n",
       "8. 'molecular function inhibitor activity'\n",
       "9. 'ubiquitin-like protein ligase binding'\n",
       "10. 'DNA-binding transcription factor binding'\n",
       "11. 'protein serine/threonine kinase activity'\n",
       "12. 'translation initiation factor binding'\n",
       "13. 'transcription coactivator activity'\n",
       "14. 'enzyme inhibitor activity'\n",
       "15. 'transcription coregulator binding'\n",
       "16. 'protein phosphatase binding'\n",
       "17. 'histone binding'\n",
       "\n",
       "\n"
      ],
      "text/plain": [
       " [1] \"transcription coregulator activity\"                                 \n",
       " [2] \"cadherin binding\"                                                   \n",
       " [3] \"transcription corepressor activity\"                                 \n",
       " [4] \"phosphatase binding\"                                                \n",
       " [5] \"single-stranded DNA binding\"                                        \n",
       " [6] \"RNA polymerase II-specific DNA-binding transcription factor binding\"\n",
       " [7] \"chloride channel inhibitor activity\"                                \n",
       " [8] \"molecular function inhibitor activity\"                              \n",
       " [9] \"ubiquitin-like protein ligase binding\"                              \n",
       "[10] \"DNA-binding transcription factor binding\"                           \n",
       "[11] \"protein serine/threonine kinase activity\"                           \n",
       "[12] \"translation initiation factor binding\"                              \n",
       "[13] \"transcription coactivator activity\"                                 \n",
       "[14] \"enzyme inhibitor activity\"                                          \n",
       "[15] \"transcription coregulator binding\"                                  \n",
       "[16] \"protein phosphatase binding\"                                        \n",
       "[17] \"histone binding\"                                                    "
      ]
     },
     "metadata": {},
     "output_type": "display_data"
    }
   ],
   "source": [
    "ego$Description"
   ]
  },
  {
   "cell_type": "code",
   "execution_count": 20,
   "id": "70dc7f98-1ee3-4fba-946c-161b8d485f52",
   "metadata": {},
   "outputs": [
    {
     "data": {
      "text/html": [
       "<strong>png:</strong> 2"
      ],
      "text/latex": [
       "\\textbf{png:} 2"
      ],
      "text/markdown": [
       "**png:** 2"
      ],
      "text/plain": [
       "png \n",
       "  2 "
      ]
     },
     "metadata": {},
     "output_type": "display_data"
    }
   ],
   "source": [
    "pdf(file=\"eGO_barplot.pdf\",width = 7,height = 4) \n",
    "barplot(ego, x = \"GeneRatio\", color = \"p.adjust\", \n",
    "        showCategory =5)  +scale_color_gradient(high=\"#489FDA\",low = \"#D75755\")+ \n",
    "  scale_size_area(max_size = 3)\n",
    "dev.off()"
   ]
  }
 ],
 "metadata": {
  "kernelspec": {
   "display_name": "newR",
   "language": "R",
   "name": "newr"
  },
  "language_info": {
   "codemirror_mode": "r",
   "file_extension": ".r",
   "mimetype": "text/x-r-source",
   "name": "R",
   "pygments_lexer": "r",
   "version": "4.2.0"
  }
 },
 "nbformat": 4,
 "nbformat_minor": 5
}
