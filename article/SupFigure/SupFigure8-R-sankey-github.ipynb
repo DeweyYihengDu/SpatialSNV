{
 "cells": [
  {
   "cell_type": "code",
   "execution_count": 1,
   "id": "e676c4f8-00c2-4f4e-9ff9-904ede98a92f",
   "metadata": {},
   "outputs": [],
   "source": [
    "library(ggplot2)\n",
    "library(ggalluvial)"
   ]
  },
  {
   "cell_type": "code",
   "execution_count": 25,
   "id": "ea5d93c0-84bd-401d-859d-6411543c0fd9",
   "metadata": {},
   "outputs": [],
   "source": [
    "data <- read.csv(\"./CRC-P67-T_chr12_25245350:C>A.csv\")\n",
    "data$cluster <- factor(data$cluster, levels = c(\"Tumor\", \"Adjacent\", \"Normal\"))\n",
    "data_agg <- aggregate(cbind(count = base) ~ base + cluster, data, FUN = length)"
   ]
  },
  {
   "cell_type": "code",
   "execution_count": 26,
   "id": "8aaaec92-12c5-4d8f-975c-3dbc53bcbeaa",
   "metadata": {},
   "outputs": [],
   "source": [
    "sankey_plot <- ggplot(data = data_agg,\n",
    "                      aes(axis1 = base, axis2 = cluster, y = count)) +\n",
    "  geom_alluvium(aes(fill = cluster)) +\n",
    "  geom_stratum(aes(fill = cluster), width = 1/12) +\n",
    "  geom_text(stat = \"stratum\", aes(label = after_stat(stratum))) +\n",
    "  scale_fill_manual(values = c(\"Tumor\" = \"#D75755\", \"Adjacent\" = \"#F1C548\", \"Normal\" = \"#83BC5B\")) +\n",
    "  theme_minimal() +\n",
    "  theme(panel.grid.major = element_blank(), panel.grid.minor = element_blank()) +\n",
    "  ggtitle(\"Sankey Diagram with ggalluvial\") +\n",
    "  xlab(\"Base to Cluster\") +\n",
    "  ylab(\"Count\")\n",
    "\n",
    "ggsave(\"./SupFigure/CRC-P67-T_kras.pdf\",plot = sankey_plot, width = 5, height = 4)"
   ]
  },
  {
   "cell_type": "code",
   "execution_count": null,
   "id": "5fc136a5-c661-43e0-8e05-65119ec8a983",
   "metadata": {},
   "outputs": [],
   "source": []
  },
  {
   "cell_type": "code",
   "execution_count": 27,
   "id": "820f5fac-656b-4475-9106-d580f6723b14",
   "metadata": {},
   "outputs": [],
   "source": [
    "data <- read.csv(\"./CRC-P59-T_2_chr12_25245350:C>T.csv\")\n",
    "data$cluster <- factor(data$cluster, levels = c(\"Tumor\", \"Adjacent\", \"Normal\"))\n",
    "data_agg <- aggregate(cbind(count = base) ~ base + cluster, data, FUN = length)"
   ]
  },
  {
   "cell_type": "code",
   "execution_count": 28,
   "id": "3d1661eb-6fe8-49db-b6bb-06adb5d88b0c",
   "metadata": {},
   "outputs": [],
   "source": [
    "sankey_plot <- ggplot(data = data_agg,\n",
    "                      aes(axis1 = base, axis2 = cluster, y = count)) +\n",
    "  geom_alluvium(aes(fill = cluster)) +\n",
    "  geom_stratum(aes(fill = cluster), width = 1/12) +\n",
    "  geom_text(stat = \"stratum\", aes(label = after_stat(stratum))) +\n",
    "  scale_fill_manual(values = c(\"Tumor\" = \"#D75755\", \"Adjacent\" = \"#F1C548\", \"Normal\" = \"#83BC5B\")) +\n",
    "  theme_minimal() +\n",
    "  theme(panel.grid.major = element_blank(), panel.grid.minor = element_blank()) +\n",
    "  ggtitle(\"Sankey Diagram with ggalluvial\") +\n",
    "  xlab(\"Base to Cluster\") +\n",
    "  ylab(\"Count\")\n",
    "\n",
    "ggsave(\"./SupFigure/CRC-P59-T_2_kras.pdf\",plot = sankey_plot, width = 5, height = 4)"
   ]
  },
  {
   "cell_type": "code",
   "execution_count": null,
   "id": "0ded79ac-5bab-4ec7-b61a-14be67d907ed",
   "metadata": {},
   "outputs": [],
   "source": []
  },
  {
   "cell_type": "code",
   "execution_count": 31,
   "id": "15ab2733-22ad-48c2-9711-1d6536903a5a",
   "metadata": {},
   "outputs": [],
   "source": [
    "data <- read.csv(\"./CRC-P59-T_2_chr1_152033685:A>G.csv\")\n",
    "data$cluster <- factor(data$cluster, levels = c(\"Tumor\", \"Adjacent\", \"Normal\"))\n",
    "data_agg <- aggregate(cbind(count = base) ~ base + cluster, data, FUN = length)"
   ]
  },
  {
   "cell_type": "code",
   "execution_count": 32,
   "id": "7f940182-a733-49f5-af29-a00fd7402ea4",
   "metadata": {},
   "outputs": [],
   "source": [
    "sankey_plot <- ggplot(data = data_agg,\n",
    "                      aes(axis1 = base, axis2 = cluster, y = count)) +\n",
    "  geom_alluvium(aes(fill = cluster)) +\n",
    "  geom_stratum(aes(fill = cluster), width = 1/12) +\n",
    "  geom_text(stat = \"stratum\", aes(label = after_stat(stratum))) +\n",
    "  scale_fill_manual(values = c(\"Tumor\" = \"#D75755\", \"Adjacent\" = \"#F1C548\", \"Normal\" = \"#83BC5B\")) +\n",
    "  theme_minimal() +\n",
    "  theme(panel.grid.major = element_blank(), panel.grid.minor = element_blank()) +\n",
    "  ggtitle(\"Sankey Diagram with ggalluvial\") +\n",
    "  xlab(\"Base to Cluster\") +\n",
    "  ylab(\"Count\")\n",
    "\n",
    "ggsave(\"./SupFigure/CRC-P59-T_2_s100a11.pdf\",plot = sankey_plot, width = 5, height = 4)"
   ]
  },
  {
   "cell_type": "code",
   "execution_count": null,
   "id": "e9b864c4-3222-40b5-bead-6005ca92f1b0",
   "metadata": {},
   "outputs": [],
   "source": []
  }
 ],
 "metadata": {
  "kernelspec": {
   "display_name": "monocle",
   "language": "R",
   "name": "monocle"
  },
  "language_info": {
   "codemirror_mode": "r",
   "file_extension": ".r",
   "mimetype": "text/x-r-source",
   "name": "R",
   "pygments_lexer": "r",
   "version": "4.3.1"
  }
 },
 "nbformat": 4,
 "nbformat_minor": 5
}
