{
 "cells": [
  {
   "cell_type": "code",
   "execution_count": 1,
   "id": "bf54e227-9659-4faa-b818-1001237e3ead",
   "metadata": {},
   "outputs": [
    {
     "name": "stderr",
     "output_type": "stream",
     "text": [
      "/home/liuyi/miniconda3/envs/spatialsnv/lib/python3.10/site-packages/anndata/utils.py:429: FutureWarning: Importing read_csv from `anndata` is deprecated. Import anndata.io.read_csv instead.\n",
      "  warnings.warn(msg, FutureWarning)\n",
      "/home/liuyi/miniconda3/envs/spatialsnv/lib/python3.10/site-packages/anndata/utils.py:429: FutureWarning: Importing read_excel from `anndata` is deprecated. Import anndata.io.read_excel instead.\n",
      "  warnings.warn(msg, FutureWarning)\n",
      "/home/liuyi/miniconda3/envs/spatialsnv/lib/python3.10/site-packages/anndata/utils.py:429: FutureWarning: Importing read_hdf from `anndata` is deprecated. Import anndata.io.read_hdf instead.\n",
      "  warnings.warn(msg, FutureWarning)\n",
      "/home/liuyi/miniconda3/envs/spatialsnv/lib/python3.10/site-packages/anndata/utils.py:429: FutureWarning: Importing read_loom from `anndata` is deprecated. Import anndata.io.read_loom instead.\n",
      "  warnings.warn(msg, FutureWarning)\n",
      "/home/liuyi/miniconda3/envs/spatialsnv/lib/python3.10/site-packages/anndata/utils.py:429: FutureWarning: Importing read_mtx from `anndata` is deprecated. Import anndata.io.read_mtx instead.\n",
      "  warnings.warn(msg, FutureWarning)\n",
      "/home/liuyi/miniconda3/envs/spatialsnv/lib/python3.10/site-packages/anndata/utils.py:429: FutureWarning: Importing read_text from `anndata` is deprecated. Import anndata.io.read_text instead.\n",
      "  warnings.warn(msg, FutureWarning)\n",
      "/home/liuyi/miniconda3/envs/spatialsnv/lib/python3.10/site-packages/anndata/utils.py:429: FutureWarning: Importing read_umi_tools from `anndata` is deprecated. Import anndata.io.read_umi_tools instead.\n",
      "  warnings.warn(msg, FutureWarning)\n"
     ]
    }
   ],
   "source": [
    "import pandas as pd\n",
    "import numpy as np\n",
    "import scanpy as sc\n",
    "import matplotlib.pyplot as plt\n",
    "import seaborn as sns\n",
    "from scipy.sparse import csc_matrix,csr_matrix\n",
    "import re\n",
    "import sys\n",
    "import spatialSNV as ss"
   ]
  },
  {
   "cell_type": "code",
   "execution_count": 2,
   "id": "4dd66bf3-4a56-4c79-b28f-c928b8cee31a",
   "metadata": {},
   "outputs": [
    {
     "name": "stdout",
     "output_type": "stream",
     "text": [
      "... writing an h5ad cache file to speedup reading next time\n"
     ]
    }
   ],
   "source": [
    "sample_name = 'CRC-P19-T'\n",
    "rna = sc.read_h5ad(f'./input/{sample_name}.rna.h5ad')\n",
    "snv_path = f\"./input/{sample_name}_snp100_matrix\"\n",
    "snv_depth_path = f\"./input/{sample_name}_snp100_matrix_depth\"\n",
    "snv_depth = sc.read_10x_mtx(snv_depth_path,cache=True)"
   ]
  },
  {
   "cell_type": "code",
   "execution_count": 3,
   "id": "12f78b59-dcaf-4961-af30-de1bead47833",
   "metadata": {},
   "outputs": [
    {
     "name": "stdout",
     "output_type": "stream",
     "text": [
      "... writing an h5ad cache file to speedup reading next time\n",
      "... reading from cache file cache/input-CRC-P19-T_snp100_matrix_depth-matrix.h5ad\n"
     ]
    }
   ],
   "source": [
    "snv = sc.read_10x_mtx(snv_path,cache=True)\n",
    "snv.obs_names = 'DNB_'+ snv.obs_names\n",
    "\n",
    "snv_depth = sc.read_10x_mtx(snv_depth_path,cache=True)\n",
    "snv_depth.obs_names = 'DNB_'+ snv_depth.obs_names"
   ]
  },
  {
   "cell_type": "code",
   "execution_count": 4,
   "id": "a699e330-f4af-4b17-bcea-419ef371baba",
   "metadata": {},
   "outputs": [],
   "source": [
    "common = list(set(rna.obs_names).intersection(set(snv_depth.obs_names)))\n",
    "rna = rna[common, :].copy()\n",
    "snv_depth = snv_depth[common,:].copy()\n",
    "snv = snv[common,snv_depth.var_names].copy()\n",
    "snv.obsm['spatial'] = rna.obsm['spatial']"
   ]
  },
  {
   "cell_type": "code",
   "execution_count": 5,
   "id": "60446f75-8ca3-4da9-a68a-c9f074cd087c",
   "metadata": {},
   "outputs": [
    {
     "name": "stdout",
     "output_type": "stream",
     "text": [
      "filtered out 11997 genes that are detected in less than 1 cells\n",
      "filtered out 11997 genes that are detected in less than 1 cells\n",
      "filtered out 1 genes that are detected in less than 5 cells\n"
     ]
    },
    {
     "name": "stderr",
     "output_type": "stream",
     "text": [
      "NOTICE: the --polish argument is set ON automatically (use --nopolish to change this behavior)\n",
      "-----------------------------------------------------------------\n",
      "NOTICE: Processing operation=g protocol=gencodev38\n",
      "\n",
      "NOTICE: Running with system command <annotate_variation.pl -geneanno -buildver homo -dbtype gencodev38 -outfile ./out//CRC-P19-T.gencodev38 -exonsort -nofirstcodondel ./out//CRC-P19-T.avinput /home/liuyi/02.software/annovar/p12_ref>\n",
      "NOTICE: Output files are written to ./out//CRC-P19-T.gencodev38.variant_function, ./out//CRC-P19-T.gencodev38.exonic_variant_function\n",
      "NOTICE: Reading gene annotation from /home/liuyi/02.software/annovar/p12_ref/homo_gencodev38.txt ... Done with 247086 transcripts (including 137441 without coding sequence annotation) for 66738 unique genes\n",
      "NOTICE: Processing next batch with 42172 unique variants in 42172 input lines\n",
      "NOTICE: Reading FASTA sequences from /home/liuyi/02.software/annovar/p12_ref/homo_gencodev38Mrna.fa ... Done with 4246 sequences\n",
      "WARNING: A total of 8381 sequences will be ignored due to lack of correct ORF annotation\n",
      "\n",
      "NOTICE: Running with system command <coding_change.pl  ./out//CRC-P19-T.gencodev38.exonic_variant_function.orig /home/liuyi/02.software/annovar/p12_ref/homo_gencodev38.txt /home/liuyi/02.software/annovar/p12_ref/homo_gencodev38Mrna.fa -alltranscript -out ./out//CRC-P19-T.gencodev38.fa -newevf ./out//CRC-P19-T.gencodev38.exonic_variant_function>\n",
      "-----------------------------------------------------------------\n",
      "NOTICE: Multianno output file is written to ./out//CRC-P19-T.homo_multianno.txt\n"
     ]
    }
   ],
   "source": [
    "gtf = \"./ref/gencode.v31.chr_patch_hapl_scaff.annotation.gtf.gz\"\n",
    "annovar_ref = \"/home/liuyi/02.software/annovar/p12_ref\" # bulid by annovar\n",
    "annovar_spe = \"homo\"\n",
    "annovar_ref_name = \"gencodev38\"\n",
    "\n",
    "snv = ss.processsnv(\n",
    "    sample_name,\n",
    "    snv,\n",
    "    snv_depth,\n",
    "    gtf = gtf,\n",
    "    annovar_ref = annovar_ref,\n",
    "    annovar_spe = annovar_spe,\n",
    "    annovar_ref_name = annovar_ref_name,\n",
    "    thrshold = 20,\n",
    "    min_cells = 5,\n",
    "    outdir = f\"./out/\",\n",
    "    annovar = \"/home/liuyi/02.software/annovar/annovar/table_annovar.pl\", # path to annovar\n",
    ")"
   ]
  },
  {
   "cell_type": "code",
   "execution_count": 6,
   "id": "cbf63662-3f32-4d29-994d-7d8a2c0cef4e",
   "metadata": {},
   "outputs": [],
   "source": [
    "ss.normalize_with_rna(snv,rna)"
   ]
  },
  {
   "cell_type": "code",
   "execution_count": 8,
   "id": "0b0c5029-8ffe-44c2-b276-96b8b98bb903",
   "metadata": {},
   "outputs": [
    {
     "data": {
      "text/plain": [
       "AnnData object with n_obs × n_vars = 17564 × 42172\n",
       "    obs: 'TotalDepth', 'UMI_counts', 'snvperumi', 'SNVtypes'\n",
       "    var: 'gene_ids', 'feature_types', 'SNVDepth', 'SNVCount', 'n_cells', 'Func', 'ExonicFunc', 'gene_name', 'gene_lenth', 'Func_L0'\n",
       "    obsm: 'spatial'\n",
       "    layers: 'norm'"
      ]
     },
     "execution_count": 8,
     "metadata": {},
     "output_type": "execute_result"
    }
   ],
   "source": [
    "snv"
   ]
  },
  {
   "cell_type": "code",
   "execution_count": 9,
   "id": "3d09d40d-44cc-4d1a-8ba4-8b70225c5eeb",
   "metadata": {},
   "outputs": [],
   "source": [
    "snv_gene_adata = ss.bulid_windows(snv,window_size = 100000,basis = 'spatial')"
   ]
  },
  {
   "cell_type": "code",
   "execution_count": 10,
   "id": "eb0192ae-6bc6-4a14-aa5c-9407f872e831",
   "metadata": {},
   "outputs": [
    {
     "name": "stdout",
     "output_type": "stream",
     "text": [
      "filtered out 1 genes that are detected in less than 1 cells\n"
     ]
    }
   ],
   "source": [
    "snv_gene_adata.obs['cluster'] = rna.obs['cluster']\n",
    "snv_gene_adata = snv_gene_adata[snv_gene_adata.obs['cluster']!='Normal'].copy()\n",
    "sc.pp.filter_genes(snv_gene_adata,min_cells=1)"
   ]
  },
  {
   "cell_type": "code",
   "execution_count": 11,
   "id": "7dd3dcf4-6ac5-47f5-bdd6-d369fe9e0e5d",
   "metadata": {},
   "outputs": [
    {
     "name": "stderr",
     "output_type": "stream",
     "text": [
      "/home/liuyi/miniconda3/envs/spatialsnv/lib/python3.10/site-packages/spatialSNV.py:86: RuntimeWarning: divide by zero encountered in divide\n",
      "  scalers = 1 / scalers\n"
     ]
    },
    {
     "name": "stdout",
     "output_type": "stream",
     "text": [
      "Step1: cell-cell connectivity calculation finished, Wed Dec 25 16:26:06 2024\n",
      "Step2: ranking SNV expression values finished, Wed Dec 25 16:26:19 2024\n"
     ]
    },
    {
     "name": "stderr",
     "output_type": "stream",
     "text": [
      "/home/liuyi/miniconda3/envs/spatialsnv/lib/python3.10/site-packages/spatialSNV.py:150: RuntimeWarning: divide by zero encountered in divide\n",
      "  scaler_mode = 1/mode\n"
     ]
    },
    {
     "name": "stdout",
     "output_type": "stream",
     "text": [
      "Step3: cell-SNV connectivity calculation finished, Wed Dec 25 16:26:22 2024\n",
      "Step5: SNV-SNV connectivity calculation finished, Wed Dec 25 16:26:25 2024\n"
     ]
    }
   ],
   "source": [
    "radius = ss.get_min_distance(snv_gene_adata,basis = 'spatial')\n",
    "ss_con = ss.build_connect(snv_gene_adata, radius = 5 * (radius), include_self=False, norm=True, scaling=False, rank2=False,\n",
    "                          rank_cutoff = 50, n_neighbors = 30, use_raw=False, decay='Gaussian')"
   ]
  },
  {
   "cell_type": "code",
   "execution_count": 12,
   "id": "2aa950f2-f00a-44dc-8333-d6b6d8abcc62",
   "metadata": {},
   "outputs": [],
   "source": [
    "snv_gene_adata,snv_group_adata = ss.build_sg(snv_gene_adata, con = ss_con,resolution = 10, syn = False)"
   ]
  },
  {
   "cell_type": "code",
   "execution_count": 13,
   "id": "6699d92f-37a2-47d3-aa34-6ff992a709c8",
   "metadata": {},
   "outputs": [],
   "source": [
    "ss.netplot(snv_gene_adata,snv_group = 1,ss_con = ss_con,save = './out/snv_group1.pdf')"
   ]
  },
  {
   "cell_type": "code",
   "execution_count": 14,
   "id": "e9489ba5-8d7c-4070-b22d-cb5d2c15e8c8",
   "metadata": {},
   "outputs": [],
   "source": [
    "snv.write('./out/dome.snv.h5ad')\n",
    "snv_gene_adata.write('./out/dome.snv_gene_adata.h5ad')\n",
    "snv_group_adata.write('./out/dome.snv_group_adata.h5ad')"
   ]
  }
 ],
 "metadata": {
  "kernelspec": {
   "display_name": "snv",
   "language": "python",
   "name": "snv"
  },
  "language_info": {
   "codemirror_mode": {
    "name": "ipython",
    "version": 3
   },
   "file_extension": ".py",
   "mimetype": "text/x-python",
   "name": "python",
   "nbconvert_exporter": "python",
   "pygments_lexer": "ipython3",
   "version": "3.10.14"
  }
 },
 "nbformat": 4,
 "nbformat_minor": 5
}
